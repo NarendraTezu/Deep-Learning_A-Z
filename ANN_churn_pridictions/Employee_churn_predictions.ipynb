{
 "cells": [
  {
   "cell_type": "markdown",
   "id": "ad70ff43",
   "metadata": {},
   "source": [
    "## Artificial Neural Network"
   ]
  },
  {
   "cell_type": "markdown",
   "id": "92d72581",
   "metadata": {},
   "source": [
    "#### Part 1 - Data Preprocessing"
   ]
  },
  {
   "cell_type": "code",
   "execution_count": 59,
   "id": "62958dd3",
   "metadata": {},
   "outputs": [],
   "source": [
    "# Import the library \n",
    "\n",
    "import numpy as np\n",
    "import pandas as pd\n",
    "import matplotlib.pyplot as plt"
   ]
  },
  {
   "cell_type": "code",
   "execution_count": 60,
   "id": "3bdee883",
   "metadata": {},
   "outputs": [],
   "source": [
    "# loading dataset \n",
    "\n",
    "dataset = pd.read_csv(\"Churn_Modelling.csv\")"
   ]
  },
  {
   "cell_type": "code",
   "execution_count": 61,
   "id": "16e4da81",
   "metadata": {},
   "outputs": [
    {
     "data": {
      "text/html": [
       "<div>\n",
       "<style scoped>\n",
       "    .dataframe tbody tr th:only-of-type {\n",
       "        vertical-align: middle;\n",
       "    }\n",
       "\n",
       "    .dataframe tbody tr th {\n",
       "        vertical-align: top;\n",
       "    }\n",
       "\n",
       "    .dataframe thead th {\n",
       "        text-align: right;\n",
       "    }\n",
       "</style>\n",
       "<table border=\"1\" class=\"dataframe\">\n",
       "  <thead>\n",
       "    <tr style=\"text-align: right;\">\n",
       "      <th></th>\n",
       "      <th>RowNumber</th>\n",
       "      <th>CustomerId</th>\n",
       "      <th>Surname</th>\n",
       "      <th>CreditScore</th>\n",
       "      <th>Geography</th>\n",
       "      <th>Gender</th>\n",
       "      <th>Age</th>\n",
       "      <th>Tenure</th>\n",
       "      <th>Balance</th>\n",
       "      <th>NumOfProducts</th>\n",
       "      <th>HasCrCard</th>\n",
       "      <th>IsActiveMember</th>\n",
       "      <th>EstimatedSalary</th>\n",
       "      <th>Exited</th>\n",
       "    </tr>\n",
       "  </thead>\n",
       "  <tbody>\n",
       "    <tr>\n",
       "      <th>0</th>\n",
       "      <td>1</td>\n",
       "      <td>15634602</td>\n",
       "      <td>Hargrave</td>\n",
       "      <td>619</td>\n",
       "      <td>France</td>\n",
       "      <td>Female</td>\n",
       "      <td>42</td>\n",
       "      <td>2</td>\n",
       "      <td>0.00</td>\n",
       "      <td>1</td>\n",
       "      <td>1</td>\n",
       "      <td>1</td>\n",
       "      <td>101348.88</td>\n",
       "      <td>1</td>\n",
       "    </tr>\n",
       "    <tr>\n",
       "      <th>1</th>\n",
       "      <td>2</td>\n",
       "      <td>15647311</td>\n",
       "      <td>Hill</td>\n",
       "      <td>608</td>\n",
       "      <td>Spain</td>\n",
       "      <td>Female</td>\n",
       "      <td>41</td>\n",
       "      <td>1</td>\n",
       "      <td>83807.86</td>\n",
       "      <td>1</td>\n",
       "      <td>0</td>\n",
       "      <td>1</td>\n",
       "      <td>112542.58</td>\n",
       "      <td>0</td>\n",
       "    </tr>\n",
       "    <tr>\n",
       "      <th>2</th>\n",
       "      <td>3</td>\n",
       "      <td>15619304</td>\n",
       "      <td>Onio</td>\n",
       "      <td>502</td>\n",
       "      <td>France</td>\n",
       "      <td>Female</td>\n",
       "      <td>42</td>\n",
       "      <td>8</td>\n",
       "      <td>159660.80</td>\n",
       "      <td>3</td>\n",
       "      <td>1</td>\n",
       "      <td>0</td>\n",
       "      <td>113931.57</td>\n",
       "      <td>1</td>\n",
       "    </tr>\n",
       "    <tr>\n",
       "      <th>3</th>\n",
       "      <td>4</td>\n",
       "      <td>15701354</td>\n",
       "      <td>Boni</td>\n",
       "      <td>699</td>\n",
       "      <td>France</td>\n",
       "      <td>Female</td>\n",
       "      <td>39</td>\n",
       "      <td>1</td>\n",
       "      <td>0.00</td>\n",
       "      <td>2</td>\n",
       "      <td>0</td>\n",
       "      <td>0</td>\n",
       "      <td>93826.63</td>\n",
       "      <td>0</td>\n",
       "    </tr>\n",
       "    <tr>\n",
       "      <th>4</th>\n",
       "      <td>5</td>\n",
       "      <td>15737888</td>\n",
       "      <td>Mitchell</td>\n",
       "      <td>850</td>\n",
       "      <td>Spain</td>\n",
       "      <td>Female</td>\n",
       "      <td>43</td>\n",
       "      <td>2</td>\n",
       "      <td>125510.82</td>\n",
       "      <td>1</td>\n",
       "      <td>1</td>\n",
       "      <td>1</td>\n",
       "      <td>79084.10</td>\n",
       "      <td>0</td>\n",
       "    </tr>\n",
       "    <tr>\n",
       "      <th>...</th>\n",
       "      <td>...</td>\n",
       "      <td>...</td>\n",
       "      <td>...</td>\n",
       "      <td>...</td>\n",
       "      <td>...</td>\n",
       "      <td>...</td>\n",
       "      <td>...</td>\n",
       "      <td>...</td>\n",
       "      <td>...</td>\n",
       "      <td>...</td>\n",
       "      <td>...</td>\n",
       "      <td>...</td>\n",
       "      <td>...</td>\n",
       "      <td>...</td>\n",
       "    </tr>\n",
       "    <tr>\n",
       "      <th>9995</th>\n",
       "      <td>9996</td>\n",
       "      <td>15606229</td>\n",
       "      <td>Obijiaku</td>\n",
       "      <td>771</td>\n",
       "      <td>France</td>\n",
       "      <td>Male</td>\n",
       "      <td>39</td>\n",
       "      <td>5</td>\n",
       "      <td>0.00</td>\n",
       "      <td>2</td>\n",
       "      <td>1</td>\n",
       "      <td>0</td>\n",
       "      <td>96270.64</td>\n",
       "      <td>0</td>\n",
       "    </tr>\n",
       "    <tr>\n",
       "      <th>9996</th>\n",
       "      <td>9997</td>\n",
       "      <td>15569892</td>\n",
       "      <td>Johnstone</td>\n",
       "      <td>516</td>\n",
       "      <td>France</td>\n",
       "      <td>Male</td>\n",
       "      <td>35</td>\n",
       "      <td>10</td>\n",
       "      <td>57369.61</td>\n",
       "      <td>1</td>\n",
       "      <td>1</td>\n",
       "      <td>1</td>\n",
       "      <td>101699.77</td>\n",
       "      <td>0</td>\n",
       "    </tr>\n",
       "    <tr>\n",
       "      <th>9997</th>\n",
       "      <td>9998</td>\n",
       "      <td>15584532</td>\n",
       "      <td>Liu</td>\n",
       "      <td>709</td>\n",
       "      <td>France</td>\n",
       "      <td>Female</td>\n",
       "      <td>36</td>\n",
       "      <td>7</td>\n",
       "      <td>0.00</td>\n",
       "      <td>1</td>\n",
       "      <td>0</td>\n",
       "      <td>1</td>\n",
       "      <td>42085.58</td>\n",
       "      <td>1</td>\n",
       "    </tr>\n",
       "    <tr>\n",
       "      <th>9998</th>\n",
       "      <td>9999</td>\n",
       "      <td>15682355</td>\n",
       "      <td>Sabbatini</td>\n",
       "      <td>772</td>\n",
       "      <td>Germany</td>\n",
       "      <td>Male</td>\n",
       "      <td>42</td>\n",
       "      <td>3</td>\n",
       "      <td>75075.31</td>\n",
       "      <td>2</td>\n",
       "      <td>1</td>\n",
       "      <td>0</td>\n",
       "      <td>92888.52</td>\n",
       "      <td>1</td>\n",
       "    </tr>\n",
       "    <tr>\n",
       "      <th>9999</th>\n",
       "      <td>10000</td>\n",
       "      <td>15628319</td>\n",
       "      <td>Walker</td>\n",
       "      <td>792</td>\n",
       "      <td>France</td>\n",
       "      <td>Female</td>\n",
       "      <td>28</td>\n",
       "      <td>4</td>\n",
       "      <td>130142.79</td>\n",
       "      <td>1</td>\n",
       "      <td>1</td>\n",
       "      <td>0</td>\n",
       "      <td>38190.78</td>\n",
       "      <td>0</td>\n",
       "    </tr>\n",
       "  </tbody>\n",
       "</table>\n",
       "<p>10000 rows × 14 columns</p>\n",
       "</div>"
      ],
      "text/plain": [
       "      RowNumber  CustomerId    Surname  CreditScore Geography  Gender  Age  \\\n",
       "0             1    15634602   Hargrave          619    France  Female   42   \n",
       "1             2    15647311       Hill          608     Spain  Female   41   \n",
       "2             3    15619304       Onio          502    France  Female   42   \n",
       "3             4    15701354       Boni          699    France  Female   39   \n",
       "4             5    15737888   Mitchell          850     Spain  Female   43   \n",
       "...         ...         ...        ...          ...       ...     ...  ...   \n",
       "9995       9996    15606229   Obijiaku          771    France    Male   39   \n",
       "9996       9997    15569892  Johnstone          516    France    Male   35   \n",
       "9997       9998    15584532        Liu          709    France  Female   36   \n",
       "9998       9999    15682355  Sabbatini          772   Germany    Male   42   \n",
       "9999      10000    15628319     Walker          792    France  Female   28   \n",
       "\n",
       "      Tenure    Balance  NumOfProducts  HasCrCard  IsActiveMember  \\\n",
       "0          2       0.00              1          1               1   \n",
       "1          1   83807.86              1          0               1   \n",
       "2          8  159660.80              3          1               0   \n",
       "3          1       0.00              2          0               0   \n",
       "4          2  125510.82              1          1               1   \n",
       "...      ...        ...            ...        ...             ...   \n",
       "9995       5       0.00              2          1               0   \n",
       "9996      10   57369.61              1          1               1   \n",
       "9997       7       0.00              1          0               1   \n",
       "9998       3   75075.31              2          1               0   \n",
       "9999       4  130142.79              1          1               0   \n",
       "\n",
       "      EstimatedSalary  Exited  \n",
       "0           101348.88       1  \n",
       "1           112542.58       0  \n",
       "2           113931.57       1  \n",
       "3            93826.63       0  \n",
       "4            79084.10       0  \n",
       "...               ...     ...  \n",
       "9995         96270.64       0  \n",
       "9996        101699.77       0  \n",
       "9997         42085.58       1  \n",
       "9998         92888.52       1  \n",
       "9999         38190.78       0  \n",
       "\n",
       "[10000 rows x 14 columns]"
      ]
     },
     "execution_count": 61,
     "metadata": {},
     "output_type": "execute_result"
    }
   ],
   "source": [
    "dataset"
   ]
  },
  {
   "cell_type": "code",
   "execution_count": 62,
   "id": "9c63d8f0",
   "metadata": {},
   "outputs": [],
   "source": [
    "X = dataset.iloc[:, 3:13]\n",
    "y = dataset.iloc[:,13]"
   ]
  },
  {
   "cell_type": "code",
   "execution_count": 63,
   "id": "a4896fe2",
   "metadata": {},
   "outputs": [],
   "source": [
    "# Create dummy variable for categorical feature\n",
    "\n",
    "geography = pd.get_dummies(X[\"Geography\"],drop_first=True)\n",
    "gender = pd.get_dummies(X[\"Gender\"],drop_first=True)"
   ]
  },
  {
   "cell_type": "code",
   "execution_count": 64,
   "id": "db6a4717",
   "metadata": {},
   "outputs": [],
   "source": [
    "# mearging created dummy column to our feature dataframe x\n",
    "\n",
    "X = pd.concat([X,geography,gender], axis=1)"
   ]
  },
  {
   "cell_type": "code",
   "execution_count": 65,
   "id": "b56b8d6a",
   "metadata": {},
   "outputs": [],
   "source": [
    "# drop unwanted column \n",
    "\n",
    "X = X.drop([\"Geography\",\"Gender\"],axis=1)"
   ]
  },
  {
   "cell_type": "code",
   "execution_count": 66,
   "id": "79227b9a",
   "metadata": {},
   "outputs": [],
   "source": [
    "# importing train test split library\n",
    "from sklearn.model_selection import train_test_split"
   ]
  },
  {
   "cell_type": "code",
   "execution_count": 67,
   "id": "8aed66a7",
   "metadata": {},
   "outputs": [],
   "source": [
    "# spliting the dataset into their traning set and test set\n",
    "\n",
    "x_train, x_test, y_train, y_test = train_test_split(X,y, test_size=0.2, random_state=2)"
   ]
  },
  {
   "cell_type": "code",
   "execution_count": null,
   "id": "f8e521ce",
   "metadata": {},
   "outputs": [],
   "source": []
  },
  {
   "cell_type": "code",
   "execution_count": 68,
   "id": "5b55c629",
   "metadata": {},
   "outputs": [],
   "source": [
    "# import feature scalling library\n",
    "\n",
    "from sklearn.preprocessing import StandardScaler"
   ]
  },
  {
   "cell_type": "code",
   "execution_count": 69,
   "id": "3e431991",
   "metadata": {},
   "outputs": [],
   "source": [
    "sc = StandardScaler()\n",
    "x_train = sc.fit_transform(x_train)\n",
    "x_test = sc.fit_transform(x_test)"
   ]
  },
  {
   "cell_type": "markdown",
   "id": "f259a580",
   "metadata": {},
   "source": [
    "#### Part 2 - Make ANN "
   ]
  },
  {
   "cell_type": "code",
   "execution_count": 84,
   "id": "5236360e",
   "metadata": {},
   "outputs": [],
   "source": [
    "import keras\n",
    "from keras.models import Sequential\n",
    "from keras.layers import Dense\n",
    "# from keras.layers import LeakyReLU, PReLU, ELU\n",
    "from keras.layers import Dropout"
   ]
  },
  {
   "cell_type": "code",
   "execution_count": 85,
   "id": "7e546f83",
   "metadata": {},
   "outputs": [],
   "source": [
    "# initialising the ANN\n",
    "\n",
    "classifier = Sequential()"
   ]
  },
  {
   "cell_type": "code",
   "execution_count": 86,
   "id": "ce50b41b",
   "metadata": {},
   "outputs": [],
   "source": [
    "# Adding the input and first hidden layer\n",
    "classifier.add(Dense(units=10, kernel_initializer='he_uniform', activation='relu', input_dim=11))\n",
    "# Adding dropout layesrs \n",
    "classifier.add(Dropout(0.3))"
   ]
  },
  {
   "cell_type": "code",
   "execution_count": 87,
   "id": "0e129a3e",
   "metadata": {},
   "outputs": [],
   "source": [
    "# Adding the input and first hidden layer\n",
    "classifier.add(Dense(units=20, kernel_initializer='he_uniform', activation='relu', input_dim=11))\n",
    "# Adding dropout layesrs \n",
    "classifier.add(Dropout(0.4))"
   ]
  },
  {
   "cell_type": "code",
   "execution_count": 88,
   "id": "f4d03081",
   "metadata": {},
   "outputs": [],
   "source": [
    "# Adding the input and first hidden layer\n",
    "classifier.add(Dense(units=15, kernel_initializer='he_uniform', activation='relu', input_dim=11))\n",
    "# Adding dropout layesrs \n",
    "classifier.add(Dropout(0.2))"
   ]
  },
  {
   "cell_type": "code",
   "execution_count": 89,
   "id": "f287e8f0",
   "metadata": {},
   "outputs": [],
   "source": [
    "# Adding the input and first hidden layer\n",
    "classifier.add(Dense(units=1, kernel_initializer='glorot_uniform', activation='sigmoid'))"
   ]
  },
  {
   "cell_type": "code",
   "execution_count": 90,
   "id": "1dcffe4d",
   "metadata": {},
   "outputs": [],
   "source": [
    "classifier.compile(optimizer = \"adam\", loss = \"binary_crossentropy\", metrics = [\"accuracy\"])"
   ]
  },
  {
   "cell_type": "code",
   "execution_count": 91,
   "id": "3411337e",
   "metadata": {},
   "outputs": [
    {
     "name": "stdout",
     "output_type": "stream",
     "text": [
      "Epoch 1/100\n",
      "536/536 [==============================] - 2s 2ms/step - loss: 0.6971 - accuracy: 0.6902 - val_loss: 0.4904 - val_accuracy: 0.8005\n",
      "Epoch 2/100\n",
      "536/536 [==============================] - 1s 3ms/step - loss: 0.5418 - accuracy: 0.7770 - val_loss: 0.4840 - val_accuracy: 0.8008\n",
      "Epoch 3/100\n",
      "536/536 [==============================] - 1s 2ms/step - loss: 0.5155 - accuracy: 0.7871 - val_loss: 0.4695 - val_accuracy: 0.8008\n",
      "Epoch 4/100\n",
      "536/536 [==============================] - 1s 2ms/step - loss: 0.5050 - accuracy: 0.7869 - val_loss: 0.4698 - val_accuracy: 0.8008\n",
      "Epoch 5/100\n",
      "536/536 [==============================] - 1s 2ms/step - loss: 0.4829 - accuracy: 0.7908 - val_loss: 0.4513 - val_accuracy: 0.8069\n",
      "Epoch 6/100\n",
      "536/536 [==============================] - 1s 2ms/step - loss: 0.4835 - accuracy: 0.7875 - val_loss: 0.4435 - val_accuracy: 0.8008\n",
      "Epoch 7/100\n",
      "536/536 [==============================] - 1s 2ms/step - loss: 0.4712 - accuracy: 0.7893 - val_loss: 0.4441 - val_accuracy: 0.8069\n",
      "Epoch 8/100\n",
      "536/536 [==============================] - 1s 2ms/step - loss: 0.4673 - accuracy: 0.7919 - val_loss: 0.4384 - val_accuracy: 0.8073\n",
      "Epoch 9/100\n",
      "536/536 [==============================] - 1s 2ms/step - loss: 0.4637 - accuracy: 0.7927 - val_loss: 0.4290 - val_accuracy: 0.8076\n",
      "Epoch 10/100\n",
      "536/536 [==============================] - 1s 3ms/step - loss: 0.4669 - accuracy: 0.7934 - val_loss: 0.4311 - val_accuracy: 0.8073\n",
      "Epoch 11/100\n",
      "536/536 [==============================] - 1s 2ms/step - loss: 0.4568 - accuracy: 0.7923 - val_loss: 0.4257 - val_accuracy: 0.8092\n",
      "Epoch 12/100\n",
      "536/536 [==============================] - 1s 2ms/step - loss: 0.4599 - accuracy: 0.7906 - val_loss: 0.4249 - val_accuracy: 0.8080\n",
      "Epoch 13/100\n",
      "536/536 [==============================] - 1s 2ms/step - loss: 0.4485 - accuracy: 0.8003 - val_loss: 0.4170 - val_accuracy: 0.8111\n",
      "Epoch 14/100\n",
      "536/536 [==============================] - 1s 3ms/step - loss: 0.4533 - accuracy: 0.7981 - val_loss: 0.4161 - val_accuracy: 0.8095\n",
      "Epoch 15/100\n",
      "536/536 [==============================] - 1s 2ms/step - loss: 0.4450 - accuracy: 0.7966 - val_loss: 0.4092 - val_accuracy: 0.8129\n",
      "Epoch 16/100\n",
      "536/536 [==============================] - 1s 2ms/step - loss: 0.4418 - accuracy: 0.8029 - val_loss: 0.3983 - val_accuracy: 0.8277\n",
      "Epoch 17/100\n",
      "536/536 [==============================] - 1s 2ms/step - loss: 0.4378 - accuracy: 0.8057 - val_loss: 0.3938 - val_accuracy: 0.8198\n",
      "Epoch 18/100\n",
      "536/536 [==============================] - 1s 2ms/step - loss: 0.4297 - accuracy: 0.8085 - val_loss: 0.3865 - val_accuracy: 0.8277\n",
      "Epoch 19/100\n",
      "536/536 [==============================] - 1s 2ms/step - loss: 0.4263 - accuracy: 0.8084 - val_loss: 0.3832 - val_accuracy: 0.8342\n",
      "Epoch 20/100\n",
      "536/536 [==============================] - 1s 2ms/step - loss: 0.4222 - accuracy: 0.8145 - val_loss: 0.3785 - val_accuracy: 0.8432\n",
      "Epoch 21/100\n",
      "536/536 [==============================] - 1s 2ms/step - loss: 0.4181 - accuracy: 0.8166 - val_loss: 0.3749 - val_accuracy: 0.8334\n",
      "Epoch 22/100\n",
      "536/536 [==============================] - 1s 2ms/step - loss: 0.4116 - accuracy: 0.8203 - val_loss: 0.3693 - val_accuracy: 0.8285\n",
      "Epoch 23/100\n",
      "536/536 [==============================] - 1s 2ms/step - loss: 0.4090 - accuracy: 0.8160 - val_loss: 0.3675 - val_accuracy: 0.8292\n",
      "Epoch 24/100\n",
      "536/536 [==============================] - 1s 2ms/step - loss: 0.4089 - accuracy: 0.8184 - val_loss: 0.3650 - val_accuracy: 0.8330\n",
      "Epoch 25/100\n",
      "536/536 [==============================] - 1s 2ms/step - loss: 0.4056 - accuracy: 0.8151 - val_loss: 0.3627 - val_accuracy: 0.8387\n",
      "Epoch 26/100\n",
      "536/536 [==============================] - 1s 2ms/step - loss: 0.4013 - accuracy: 0.8289 - val_loss: 0.3569 - val_accuracy: 0.8383\n",
      "Epoch 27/100\n",
      "536/536 [==============================] - 1s 2ms/step - loss: 0.3937 - accuracy: 0.8259 - val_loss: 0.3590 - val_accuracy: 0.8398\n",
      "Epoch 28/100\n",
      "536/536 [==============================] - 1s 2ms/step - loss: 0.4022 - accuracy: 0.8238 - val_loss: 0.3621 - val_accuracy: 0.8292\n",
      "Epoch 29/100\n",
      "536/536 [==============================] - 1s 2ms/step - loss: 0.3992 - accuracy: 0.8237 - val_loss: 0.3597 - val_accuracy: 0.8289\n",
      "Epoch 30/100\n",
      "536/536 [==============================] - 1s 2ms/step - loss: 0.3982 - accuracy: 0.8229 - val_loss: 0.3563 - val_accuracy: 0.8323\n",
      "Epoch 31/100\n",
      "536/536 [==============================] - 1s 2ms/step - loss: 0.3952 - accuracy: 0.8294 - val_loss: 0.3572 - val_accuracy: 0.8304\n",
      "Epoch 32/100\n",
      "536/536 [==============================] - 1s 2ms/step - loss: 0.3953 - accuracy: 0.8265 - val_loss: 0.3611 - val_accuracy: 0.8315\n",
      "Epoch 33/100\n",
      "536/536 [==============================] - 1s 2ms/step - loss: 0.3954 - accuracy: 0.8259 - val_loss: 0.3606 - val_accuracy: 0.8406\n",
      "Epoch 34/100\n",
      "536/536 [==============================] - 1s 2ms/step - loss: 0.3925 - accuracy: 0.8222 - val_loss: 0.3567 - val_accuracy: 0.8376\n",
      "Epoch 35/100\n",
      "536/536 [==============================] - 1s 2ms/step - loss: 0.3845 - accuracy: 0.8285 - val_loss: 0.3515 - val_accuracy: 0.8451\n",
      "Epoch 36/100\n",
      "536/536 [==============================] - 1s 2ms/step - loss: 0.3959 - accuracy: 0.8257 - val_loss: 0.3512 - val_accuracy: 0.8470\n",
      "Epoch 37/100\n",
      "536/536 [==============================] - 1s 2ms/step - loss: 0.3894 - accuracy: 0.8347 - val_loss: 0.3577 - val_accuracy: 0.8413\n",
      "Epoch 38/100\n",
      "536/536 [==============================] - 1s 2ms/step - loss: 0.3874 - accuracy: 0.8322 - val_loss: 0.3600 - val_accuracy: 0.8349\n",
      "Epoch 39/100\n",
      "536/536 [==============================] - 1s 2ms/step - loss: 0.3905 - accuracy: 0.8309 - val_loss: 0.3565 - val_accuracy: 0.8459\n",
      "Epoch 40/100\n",
      "536/536 [==============================] - 1s 2ms/step - loss: 0.3897 - accuracy: 0.8291 - val_loss: 0.3574 - val_accuracy: 0.8391\n",
      "Epoch 41/100\n",
      "536/536 [==============================] - 1s 3ms/step - loss: 0.3859 - accuracy: 0.8298 - val_loss: 0.3535 - val_accuracy: 0.8391\n",
      "Epoch 42/100\n",
      "536/536 [==============================] - 1s 2ms/step - loss: 0.3817 - accuracy: 0.8291 - val_loss: 0.3503 - val_accuracy: 0.8436\n",
      "Epoch 43/100\n",
      "536/536 [==============================] - 1s 2ms/step - loss: 0.3875 - accuracy: 0.8332 - val_loss: 0.3532 - val_accuracy: 0.8519\n",
      "Epoch 44/100\n",
      "536/536 [==============================] - 1s 2ms/step - loss: 0.3868 - accuracy: 0.8294 - val_loss: 0.3558 - val_accuracy: 0.8489\n",
      "Epoch 45/100\n",
      "536/536 [==============================] - 1s 3ms/step - loss: 0.3908 - accuracy: 0.8274 - val_loss: 0.3482 - val_accuracy: 0.8535\n",
      "Epoch 46/100\n",
      "536/536 [==============================] - 1s 2ms/step - loss: 0.3866 - accuracy: 0.8326 - val_loss: 0.3496 - val_accuracy: 0.8493\n",
      "Epoch 47/100\n",
      "536/536 [==============================] - 1s 2ms/step - loss: 0.3868 - accuracy: 0.8373 - val_loss: 0.3483 - val_accuracy: 0.8459\n",
      "Epoch 48/100\n",
      "536/536 [==============================] - 1s 2ms/step - loss: 0.3801 - accuracy: 0.8360 - val_loss: 0.3445 - val_accuracy: 0.8569\n",
      "Epoch 49/100\n",
      "536/536 [==============================] - 1s 2ms/step - loss: 0.3806 - accuracy: 0.8360 - val_loss: 0.3461 - val_accuracy: 0.8561\n",
      "Epoch 50/100\n",
      "536/536 [==============================] - 1s 2ms/step - loss: 0.3816 - accuracy: 0.8349 - val_loss: 0.3516 - val_accuracy: 0.8565\n",
      "Epoch 51/100\n",
      "536/536 [==============================] - 1s 2ms/step - loss: 0.3857 - accuracy: 0.8352 - val_loss: 0.3421 - val_accuracy: 0.8588\n",
      "Epoch 52/100\n",
      "536/536 [==============================] - 1s 3ms/step - loss: 0.3780 - accuracy: 0.8388 - val_loss: 0.3465 - val_accuracy: 0.8538\n",
      "Epoch 53/100\n",
      "536/536 [==============================] - 1s 3ms/step - loss: 0.3832 - accuracy: 0.8356 - val_loss: 0.3498 - val_accuracy: 0.8588\n",
      "Epoch 54/100\n",
      "536/536 [==============================] - 1s 3ms/step - loss: 0.3790 - accuracy: 0.8362 - val_loss: 0.3441 - val_accuracy: 0.8584\n",
      "Epoch 55/100\n",
      "536/536 [==============================] - 1s 3ms/step - loss: 0.3716 - accuracy: 0.8403 - val_loss: 0.3425 - val_accuracy: 0.8618\n",
      "Epoch 56/100\n",
      "536/536 [==============================] - 1s 3ms/step - loss: 0.3798 - accuracy: 0.8390 - val_loss: 0.3401 - val_accuracy: 0.8584\n",
      "Epoch 57/100\n",
      "536/536 [==============================] - 1s 2ms/step - loss: 0.3748 - accuracy: 0.8436 - val_loss: 0.3400 - val_accuracy: 0.8599\n"
     ]
    },
    {
     "name": "stdout",
     "output_type": "stream",
     "text": [
      "Epoch 58/100\n",
      "536/536 [==============================] - 1s 3ms/step - loss: 0.3811 - accuracy: 0.8350 - val_loss: 0.3412 - val_accuracy: 0.8580\n",
      "Epoch 59/100\n",
      "536/536 [==============================] - 1s 3ms/step - loss: 0.3811 - accuracy: 0.8347 - val_loss: 0.3425 - val_accuracy: 0.8595\n",
      "Epoch 60/100\n",
      "536/536 [==============================] - 1s 3ms/step - loss: 0.3722 - accuracy: 0.8403 - val_loss: 0.3414 - val_accuracy: 0.8535\n",
      "Epoch 61/100\n",
      "536/536 [==============================] - 1s 2ms/step - loss: 0.3753 - accuracy: 0.8414 - val_loss: 0.3413 - val_accuracy: 0.8569\n",
      "Epoch 62/100\n",
      "536/536 [==============================] - 1s 3ms/step - loss: 0.3725 - accuracy: 0.8397 - val_loss: 0.3381 - val_accuracy: 0.8603\n",
      "Epoch 63/100\n",
      "536/536 [==============================] - 1s 3ms/step - loss: 0.3796 - accuracy: 0.8451 - val_loss: 0.3450 - val_accuracy: 0.8584\n",
      "Epoch 64/100\n",
      "536/536 [==============================] - 1s 2ms/step - loss: 0.3750 - accuracy: 0.8414 - val_loss: 0.3390 - val_accuracy: 0.8591\n",
      "Epoch 65/100\n",
      "536/536 [==============================] - 1s 3ms/step - loss: 0.3791 - accuracy: 0.8399 - val_loss: 0.3509 - val_accuracy: 0.8455\n",
      "Epoch 66/100\n",
      "536/536 [==============================] - 1s 3ms/step - loss: 0.3778 - accuracy: 0.8403 - val_loss: 0.3396 - val_accuracy: 0.8610\n",
      "Epoch 67/100\n",
      "536/536 [==============================] - 1s 3ms/step - loss: 0.3705 - accuracy: 0.8427 - val_loss: 0.3351 - val_accuracy: 0.8648\n",
      "Epoch 68/100\n",
      "536/536 [==============================] - 1s 3ms/step - loss: 0.3759 - accuracy: 0.8399 - val_loss: 0.3439 - val_accuracy: 0.8599\n",
      "Epoch 69/100\n",
      "536/536 [==============================] - 1s 3ms/step - loss: 0.3748 - accuracy: 0.8427 - val_loss: 0.3396 - val_accuracy: 0.8637\n",
      "Epoch 70/100\n",
      "536/536 [==============================] - 1s 3ms/step - loss: 0.3759 - accuracy: 0.8388 - val_loss: 0.3408 - val_accuracy: 0.8675\n",
      "Epoch 71/100\n",
      "536/536 [==============================] - 2s 3ms/step - loss: 0.3787 - accuracy: 0.8377 - val_loss: 0.3378 - val_accuracy: 0.8580\n",
      "Epoch 72/100\n",
      "536/536 [==============================] - 1s 3ms/step - loss: 0.3736 - accuracy: 0.8412 - val_loss: 0.3412 - val_accuracy: 0.8588\n",
      "Epoch 73/100\n",
      "536/536 [==============================] - 1s 3ms/step - loss: 0.3733 - accuracy: 0.8427 - val_loss: 0.3387 - val_accuracy: 0.8626\n",
      "Epoch 74/100\n",
      "536/536 [==============================] - 2s 3ms/step - loss: 0.3726 - accuracy: 0.8442 - val_loss: 0.3358 - val_accuracy: 0.8671\n",
      "Epoch 75/100\n",
      "536/536 [==============================] - 2s 3ms/step - loss: 0.3768 - accuracy: 0.8358 - val_loss: 0.3352 - val_accuracy: 0.8614\n",
      "Epoch 76/100\n",
      "536/536 [==============================] - 2s 3ms/step - loss: 0.3816 - accuracy: 0.8364 - val_loss: 0.3402 - val_accuracy: 0.8599\n",
      "Epoch 77/100\n",
      "536/536 [==============================] - 1s 3ms/step - loss: 0.3735 - accuracy: 0.8444 - val_loss: 0.3385 - val_accuracy: 0.8614\n",
      "Epoch 78/100\n",
      "536/536 [==============================] - 1s 3ms/step - loss: 0.3693 - accuracy: 0.8438 - val_loss: 0.3351 - val_accuracy: 0.8591\n",
      "Epoch 79/100\n",
      "536/536 [==============================] - 1s 3ms/step - loss: 0.3746 - accuracy: 0.8423 - val_loss: 0.3384 - val_accuracy: 0.8599\n",
      "Epoch 80/100\n",
      "536/536 [==============================] - 1s 3ms/step - loss: 0.3782 - accuracy: 0.8419 - val_loss: 0.3369 - val_accuracy: 0.8591\n",
      "Epoch 81/100\n",
      "536/536 [==============================] - 1s 3ms/step - loss: 0.3720 - accuracy: 0.8410 - val_loss: 0.3384 - val_accuracy: 0.8652\n",
      "Epoch 82/100\n",
      "536/536 [==============================] - 1s 3ms/step - loss: 0.3759 - accuracy: 0.8401 - val_loss: 0.3484 - val_accuracy: 0.8546\n",
      "Epoch 83/100\n",
      "536/536 [==============================] - 1s 3ms/step - loss: 0.3738 - accuracy: 0.8401 - val_loss: 0.3413 - val_accuracy: 0.8599\n",
      "Epoch 84/100\n",
      "536/536 [==============================] - 1s 3ms/step - loss: 0.3777 - accuracy: 0.8378 - val_loss: 0.3431 - val_accuracy: 0.8607\n",
      "Epoch 85/100\n",
      "536/536 [==============================] - 1s 3ms/step - loss: 0.3773 - accuracy: 0.8401 - val_loss: 0.3395 - val_accuracy: 0.8610\n",
      "Epoch 86/100\n",
      "536/536 [==============================] - 1s 3ms/step - loss: 0.3716 - accuracy: 0.8474 - val_loss: 0.3403 - val_accuracy: 0.8584\n",
      "Epoch 87/100\n",
      "536/536 [==============================] - 1s 3ms/step - loss: 0.3796 - accuracy: 0.8380 - val_loss: 0.3406 - val_accuracy: 0.8610\n",
      "Epoch 88/100\n",
      "536/536 [==============================] - 1s 3ms/step - loss: 0.3726 - accuracy: 0.8425 - val_loss: 0.3333 - val_accuracy: 0.8637\n",
      "Epoch 89/100\n",
      "536/536 [==============================] - 1s 3ms/step - loss: 0.3759 - accuracy: 0.8433 - val_loss: 0.3374 - val_accuracy: 0.8622\n",
      "Epoch 90/100\n",
      "536/536 [==============================] - 1s 3ms/step - loss: 0.3644 - accuracy: 0.8423 - val_loss: 0.3315 - val_accuracy: 0.8682\n",
      "Epoch 91/100\n",
      "536/536 [==============================] - 1s 3ms/step - loss: 0.3709 - accuracy: 0.8405 - val_loss: 0.3372 - val_accuracy: 0.8591\n",
      "Epoch 92/100\n",
      "536/536 [==============================] - 1s 3ms/step - loss: 0.3746 - accuracy: 0.8358 - val_loss: 0.3375 - val_accuracy: 0.8610\n",
      "Epoch 93/100\n",
      "536/536 [==============================] - 1s 3ms/step - loss: 0.3678 - accuracy: 0.8485 - val_loss: 0.3376 - val_accuracy: 0.8633\n",
      "Epoch 94/100\n",
      "536/536 [==============================] - 1s 3ms/step - loss: 0.3685 - accuracy: 0.8449 - val_loss: 0.3349 - val_accuracy: 0.8618\n",
      "Epoch 95/100\n",
      "536/536 [==============================] - 1s 3ms/step - loss: 0.3705 - accuracy: 0.8440 - val_loss: 0.3335 - val_accuracy: 0.8644\n",
      "Epoch 96/100\n",
      "536/536 [==============================] - 1s 3ms/step - loss: 0.3696 - accuracy: 0.8444 - val_loss: 0.3347 - val_accuracy: 0.8663\n",
      "Epoch 97/100\n",
      "536/536 [==============================] - 1s 3ms/step - loss: 0.3704 - accuracy: 0.8386 - val_loss: 0.3366 - val_accuracy: 0.8610\n",
      "Epoch 98/100\n",
      "536/536 [==============================] - 1s 3ms/step - loss: 0.3699 - accuracy: 0.8410 - val_loss: 0.3367 - val_accuracy: 0.8656\n",
      "Epoch 99/100\n",
      "536/536 [==============================] - 1s 3ms/step - loss: 0.3744 - accuracy: 0.8397 - val_loss: 0.3453 - val_accuracy: 0.8580\n",
      "Epoch 100/100\n",
      "536/536 [==============================] - 2s 3ms/step - loss: 0.3722 - accuracy: 0.8405 - val_loss: 0.3389 - val_accuracy: 0.8618\n"
     ]
    }
   ],
   "source": [
    "# fitting the ANN to the traning set \n",
    "\n",
    "model_history = classifier.fit(x_train, y_train, validation_split=0.33, batch_size=10, epochs=100)\n"
   ]
  },
  {
   "cell_type": "code",
   "execution_count": 92,
   "id": "b871f653",
   "metadata": {},
   "outputs": [
    {
     "name": "stdout",
     "output_type": "stream",
     "text": [
      "dict_keys(['loss', 'accuracy', 'val_loss', 'val_accuracy'])\n"
     ]
    }
   ],
   "source": [
    "# Printing the all data history \n",
    "print(model_history.history.keys())"
   ]
  },
  {
   "cell_type": "code",
   "execution_count": 99,
   "id": "e15b12b6",
   "metadata": {},
   "outputs": [
    {
     "data": {
      "image/png": "[encoded data removed]",
      "text/plain": [
       "<Figure size 640x480 with 1 Axes>"
      ]
     },
     "metadata": {},
     "output_type": "display_data"
    }
   ],
   "source": [
    "# Summrize the history for loss\n",
    "\n",
    "plt.plot(model_history.history[\"loss\"])\n",
    "plt.plot(model_history.history[\"val_loss\"])\n",
    "plt.title(\"model loss\")\n",
    "plt.ylabel(\"loss\")\n",
    "plt.xlabel(\"epoch\")\n",
    "plt.legend([\"train\", \"test\"], loc=\"upper right\")\n",
    "plt.show()"
   ]
  },
  {
   "cell_type": "markdown",
   "id": "d4e6e2ef",
   "metadata": {},
   "source": [
    "#### Part 3 - Predictions and evaluating the model"
   ]
  },
  {
   "cell_type": "code",
   "execution_count": 94,
   "id": "3d14548a",
   "metadata": {},
   "outputs": [
    {
     "name": "stdout",
     "output_type": "stream",
     "text": [
      "63/63 [==============================] - 0s 1ms/step\n"
     ]
    }
   ],
   "source": [
    "# Predicting the result on test data\n",
    "\n",
    "y_pred = classifier.predict(x_test)\n",
    "y_pred = (y_pred > 0.5)"
   ]
  },
  {
   "cell_type": "code",
   "execution_count": 95,
   "id": "b93a0f9d",
   "metadata": {},
   "outputs": [],
   "source": [
    "# making the confusion matrix \n",
    "\n",
    "from sklearn.metrics import confusion_matrix\n",
    "cm = confusion_matrix(y_test, y_pred)"
   ]
  },
  {
   "cell_type": "code",
   "execution_count": 96,
   "id": "269538f3",
   "metadata": {},
   "outputs": [
    {
     "data": {
      "text/plain": [
       "array([[1602,   15],\n",
       "       [ 272,  111]])"
      ]
     },
     "execution_count": 96,
     "metadata": {},
     "output_type": "execute_result"
    }
   ],
   "source": [
    "cm"
   ]
  },
  {
   "cell_type": "code",
   "execution_count": 97,
   "id": "668f972f",
   "metadata": {},
   "outputs": [],
   "source": [
    "# calculate the accuraccy \n",
    "\n",
    "from sklearn.metrics import accuracy_score\n",
    "score = accuracy_score(y_pred, y_test)"
   ]
  },
  {
   "cell_type": "code",
   "execution_count": 98,
   "id": "be0546f0",
   "metadata": {},
   "outputs": [
    {
     "data": {
      "text/plain": [
       "0.8565"
      ]
     },
     "execution_count": 98,
     "metadata": {},
     "output_type": "execute_result"
    }
   ],
   "source": [
    "score"
   ]
  },
  {
   "cell_type": "code",
   "execution_count": null,
   "id": "1bdd2f99",
   "metadata": {},
   "outputs": [],
   "source": []
  }
 ],
 "metadata": {
  "kernelspec": {
   "display_name": "Python 3",
   "language": "python",
   "name": "python3"
  },
  "language_info": {
   "codemirror_mode": {
    "name": "ipython",
    "version": 3
   },
   "file_extension": ".py",
   "mimetype": "text/x-python",
   "name": "python",
   "nbconvert_exporter": "python",
   "pygments_lexer": "ipython3",
   "version": "3.8.8"
  }
 },
 "nbformat": 4,
 "nbformat_minor": 5
}
